{
 "cells": [
  {
   "cell_type": "code",
   "execution_count": null,
   "id": "2dac2a77-85f5-4b94-8d90-e0dd67254dcc",
   "metadata": {},
   "outputs": [],
   "source": [
    "from pyspark.sql import SparkSession\n",
    "\n",
    "# Create a SparkSession\n",
    "spark = SparkSession.builder \\\n",
    "    .appName(\"Simple PySpark DataFrame Example\") \\\n",
    "    .getOrCreate()\n",
    "\n",
    "# Sample data in the form of a list of tuples\n",
    "data = [\n",
    "    (1, \"Alice\", 29),\n",
    "    (2, \"Bob\", 31),\n",
    "    (3, \"Cathy\", 25),\n",
    "    (4, \"David\", 35)\n",
    "]\n",
    "\n",
    "# Define the schema for the DataFrame\n",
    "columns = [\"ID\", \"Name\", \"Age\"]\n",
    "\n",
    "# Create a DataFrame from the sample data\n",
    "df = spark.createDataFrame(data, columns)\n",
    "\n",
    "# Show the DataFrame\n",
    "df.show()\n",
    "\n",
    "# Perform some basic DataFrame operations\n",
    "\n",
    "# Select specific columns\n",
    "df_select = df.select(\"Name\", \"Age\")\n",
    "df_select.show()\n",
    "\n",
    "# Filter rows where Age is greater than 30\n",
    "df_filtered = df.filter(df.Age > 30)\n",
    "df_filtered.show()\n",
    "\n",
    "# Group by Age and count the number of occurrences\n",
    "df_grouped = df.groupBy(\"Age\").count()\n",
    "df_grouped.show()\n",
    "\n",
    "# Stop the SparkSession\n",
    "spark.stop()\n"
   ]
  }
 ],
 "metadata": {
  "kernelspec": {
   "display_name": "Python 3 (ipykernel)",
   "language": "python",
   "name": "python3"
  },
  "language_info": {
   "codemirror_mode": {
    "name": "ipython",
    "version": 3
   },
   "file_extension": ".py",
   "mimetype": "text/x-python",
   "name": "python",
   "nbconvert_exporter": "python",
   "pygments_lexer": "ipython3",
   "version": "3.11.9"
  }
 },
 "nbformat": 4,
 "nbformat_minor": 5
}
